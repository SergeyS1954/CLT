import numpy as np
import matplotlib.pyplot as plt
np.random.seed(1954)

pi = np.pi

def sum_from_exp_distribution(n_rows, n_iters):   
    # Создание  выборок данных длиной n_rows  
    # экспоненциально распределенной случайной величины. Всего выборок n_iter.
    R = np.zeros(n_rows)
    
    for i in range(n_iters):
        # суммирование значений векторов n_rows выборок
        # n_iters раз.
        lamda = 1.0
        R = R + np.random.exponential(lamda, n_rows)
    
    # Нормализация общим числом выборок.
    R = R / n_iters
    return R
def analytical_solution(n_iters):
    # Построение плотности нормального распределения по 1000 точкам.
    x = np.linspace(0, 4, 1000)
    
    # Среднее значение =  1.
    mu = 1 
    
    # Дисперсия оценивается 
    sig2 = 1.0 / (n_iters * 1 ** 2)  
    p = ((2 * pi * sig2)**-0.5) * np.exp(-(x - mu)**2 / 2 / sig2)
    
    return x, p
