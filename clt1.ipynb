{
  "nbformat": 4,
  "nbformat_minor": 0,
  "metadata": {
    "colab": {
      "name": "CLT.ipynb",
      "provenance": [],
      "collapsed_sections": [],
      "authorship_tag": "ABX9TyMHoJOar2cttzYqn19qYvcT",
      "include_colab_link": true
    },
    "kernelspec": {
      "name": "python3",
      "display_name": "Python 3"
    },
    "language_info": {
      "name": "python"
    }
  },
  "cells": [
    {
      "cell_type": "markdown",
      "metadata": {
        "id": "view-in-github",
        "colab_type": "text"
      },
      "source": [
        "<a href=\"https://colab.research.google.com/github/SergeyS1954/CLT/blob/main/clt1.ipynb\" target=\"_parent\"><img src=\"https://colab.research.google.com/assets/colab-badge.svg\" alt=\"Open In Colab\"/></a>"
      ]
    },
    {
      "cell_type": "code",
      "execution_count": 11,
      "metadata": {
        "id": "kg2YYFzWKV4U"
      },
      "outputs": [],
      "source": [
        "import numpy as np\n",
        "import matplotlib.pyplot as plt\n",
        "np.random.seed(1954)\n",
        "\n",
        "def sum_from_exp_distribution(n_rows, lam):   \n",
        "    # Создание  нормированной выбороки данных длиной n_rows  \n",
        "    # экспоненциально распределенной случайной величины. \n",
        "    R = np.zeros(n_rows)\n",
        "    Sum = 0\n",
        "    for i in range(n_rows):\n",
        "        # суммирование значений случайных величин\n",
        "        # n_rows раз.\n",
        "        Sum = Sum + np.random.exponential(lam)\n",
        "    NSum  = Sum / n_rows\n",
        "    return NSum\n"
      ]
    },
    {
      "cell_type": "markdown",
      "source": [
        "Иллюстрация закона больших чисел"
      ],
      "metadata": {
        "id": "KVDq5xCA89Ev"
      }
    },
    {
      "cell_type": "code",
      "source": [
        "n_rows = 10\n",
        "lam = 1.0\n",
        "NSum = sum_from_exp_distribution(n_rows, lam)\n",
        "print ('Нормированная сумма \\n', 'n_rows = ',n_rows, 'Оценка среднего', NSum)\n"
      ],
      "metadata": {
        "colab": {
          "base_uri": "https://localhost:8080/"
        },
        "id": "32IP7CrHKk-X",
        "outputId": "fa45a301-8780-43ac-892a-2806e9495a4a"
      },
      "execution_count": 13,
      "outputs": [
        {
          "output_type": "stream",
          "name": "stdout",
          "text": [
            "Нормированная сумма \n",
            " n_rows =  10 Оценка среднего 0.45781666615460803\n"
          ]
        }
      ]
    },
    {
      "cell_type": "code",
      "source": [
        "n_rows = 100\n",
        "lam = 1.0\n",
        "NSum = sum_from_exp_distribution(n_rows, lam)\n",
        "print ('Нормированная сумма \\n', 'n_rows = ',n_rows, 'Оценка среднего', NSum)\n"
      ],
      "metadata": {
        "colab": {
          "base_uri": "https://localhost:8080/"
        },
        "outputId": "b66867d6-fc2a-488d-cffd-f98a111e5fb5",
        "id": "h26FGYEJ_L4j"
      },
      "execution_count": 14,
      "outputs": [
        {
          "output_type": "stream",
          "name": "stdout",
          "text": [
            "Нормированная сумма \n",
            " n_rows =  100 Оценка среднего 0.8857164038035589\n"
          ]
        }
      ]
    },
    {
      "cell_type": "code",
      "source": [
        "n_rows = 1000\n",
        "lam = 1.0\n",
        "NSum = sum_from_exp_distribution(n_rows, lam)\n",
        "print ('Нормированная сумма \\n', 'n_rows = ',n_rows, 'Оценка среднего', NSum)\n"
      ],
      "metadata": {
        "colab": {
          "base_uri": "https://localhost:8080/"
        },
        "outputId": "ba368824-6c10-4e1d-9443-08a4e1bbf809",
        "id": "vZZBX56b_kIG"
      },
      "execution_count": 15,
      "outputs": [
        {
          "output_type": "stream",
          "name": "stdout",
          "text": [
            "Нормированная сумма \n",
            " n_rows =  1000 Оценка среднего 0.9492337901934907\n"
          ]
        }
      ]
    },
    {
      "cell_type": "code",
      "source": [
        "n_rows = 10000\n",
        "lam = 1.0\n",
        "NSum = sum_from_exp_distribution(n_rows, lam)\n",
        "print ('Нормированная сумма \\n', 'n_rows = ',n_rows, 'Оценка среднего', NSum)\n"
      ],
      "metadata": {
        "colab": {
          "base_uri": "https://localhost:8080/"
        },
        "outputId": "20325633-55cb-4e88-d71a-87c465c20534",
        "id": "EduHfrF3_29s"
      },
      "execution_count": 16,
      "outputs": [
        {
          "output_type": "stream",
          "name": "stdout",
          "text": [
            "Нормированная сумма \n",
            " n_rows =  10000 Оценка среднего 1.0010314149453994\n"
          ]
        }
      ]
    }
  ]
}